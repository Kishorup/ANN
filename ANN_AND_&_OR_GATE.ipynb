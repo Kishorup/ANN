{
  "nbformat": 4,
  "nbformat_minor": 0,
  "metadata": {
    "colab": {
      "provenance": [],
      "authorship_tag": "ABX9TyPyREOpAL5HzLAfflcVPixr",
      "include_colab_link": true
    },
    "kernelspec": {
      "name": "python3",
      "display_name": "Python 3"
    },
    "language_info": {
      "name": "python"
    }
  },
  "cells": [
    {
      "cell_type": "markdown",
      "metadata": {
        "id": "view-in-github",
        "colab_type": "text"
      },
      "source": [
        "<a href=\"https://colab.research.google.com/github/Kishorup/ANN/blob/main/ANN_AND_%26_OR_GATE.ipynb\" target=\"_parent\"><img src=\"https://colab.research.google.com/assets/colab-badge.svg\" alt=\"Open In Colab\"/></a>"
      ]
    },
    {
      "cell_type": "code",
      "source": [
        "def step(x, threshold=0):\n",
        "    return 1 if x >= threshold else 0\n"
      ],
      "metadata": {
        "id": "6RFGURhWwtPl"
      },
      "execution_count": 12,
      "outputs": []
    },
    {
      "cell_type": "code",
      "source": [
        "def train_perceptron(gate_name, dataset, learning_rate=0.1, max_epochs=100):\n",
        "    w1, w2, bias = 0.0, 0.0, 0.0\n",
        "    print(f\"\\nTraining Perceptron for {gate_name} Gate\")\n",
        "    print(\"Initial weights: w1 = {:.2f}, w2 = {:.2f}, bias = {:.2f}\".format(w1, w2, bias))\n",
        "\n",
        "    for epoch in range(max_epochs):\n",
        "        error_flag = False\n",
        "        print(f\"\\nEpoch {epoch + 1}\")\n",
        "        for x1, x2, target in dataset:\n",
        "            y_in = x1 * w1 + x2 * w2 + bias\n",
        "            output = step(y_in)\n",
        "            error = target - output\n",
        "\n",
        "            if error != 0:\n",
        "                w1 += learning_rate * error * x1\n",
        "                w2 += learning_rate * error * x2\n",
        "                bias += learning_rate * error\n",
        "                error_flag = True\n",
        "\n",
        "            print(f\"Input: [{x1}, {x2}] | Target: {target} | Output: {output} | \"\n",
        "                  f\"Updated weights: w1 = {w1:.2f}, w2 = {w2:.2f}, bias = {bias:.2f}\")\n",
        "\n",
        "        if not error_flag:\n",
        "            print(\"\\nTraining converged.\")\n",
        "            break\n",
        "    else:\n",
        "        print(\"\\nReached maximum epochs without full convergence.\")\n",
        "\n",
        "    print(\"\\nFinal weights:\")\n",
        "    print(\"w1 = {:.2f}, w2 = {:.2f}, bias = {:.2f}\".format(w1, w2, bias))\n",
        "\n",
        "    correct = 0\n",
        "    for x1, x2, target in dataset:\n",
        "        output = step(x1 * w1 + x2 * w2 + bias)\n",
        "        if output == target:\n",
        "            correct += 1\n",
        "\n",
        "    accuracy = correct / len(dataset) * 100\n",
        "    print(f\"Final Classification Accuracy: {accuracy:.2f}%\")\n",
        "    print(\"-\" * 50)\n"
      ],
      "metadata": {
        "id": "S9ttdwmfwtM2"
      },
      "execution_count": 13,
      "outputs": []
    },
    {
      "cell_type": "code",
      "source": [
        "and_dataset = [\n",
        "    (0, 0, 0),\n",
        "    (0, 1, 0),\n",
        "    (1, 0, 0),\n",
        "    (1, 1, 1)\n",
        "]\n",
        "\n",
        "or_dataset = [\n",
        "    (0, 0, 0),\n",
        "    (0, 1, 1),\n",
        "    (1, 0, 1),\n",
        "    (1, 1, 1)\n",
        "]\n"
      ],
      "metadata": {
        "id": "4iArGQolxqmR"
      },
      "execution_count": 14,
      "outputs": []
    },
    {
      "cell_type": "code",
      "source": [
        "train_perceptron(\"AND\", and_dataset)\n",
        "train_perceptron(\"OR\", or_dataset)\n"
      ],
      "metadata": {
        "colab": {
          "base_uri": "https://localhost:8080/"
        },
        "id": "9fZTL7OUxqkC",
        "outputId": "8dfc600e-062f-4693-ba4d-c30834999608"
      },
      "execution_count": 15,
      "outputs": [
        {
          "output_type": "stream",
          "name": "stdout",
          "text": [
            "\n",
            "Training Perceptron for AND Gate\n",
            "Initial weights: w1 = 0.00, w2 = 0.00, bias = 0.00\n",
            "\n",
            "Epoch 1\n",
            "Input: [0, 0] | Target: 0 | Output: 1 | Updated weights: w1 = 0.00, w2 = 0.00, bias = -0.10\n",
            "Input: [0, 1] | Target: 0 | Output: 0 | Updated weights: w1 = 0.00, w2 = 0.00, bias = -0.10\n",
            "Input: [1, 0] | Target: 0 | Output: 0 | Updated weights: w1 = 0.00, w2 = 0.00, bias = -0.10\n",
            "Input: [1, 1] | Target: 1 | Output: 0 | Updated weights: w1 = 0.10, w2 = 0.10, bias = 0.00\n",
            "\n",
            "Epoch 2\n",
            "Input: [0, 0] | Target: 0 | Output: 1 | Updated weights: w1 = 0.10, w2 = 0.10, bias = -0.10\n",
            "Input: [0, 1] | Target: 0 | Output: 1 | Updated weights: w1 = 0.10, w2 = 0.00, bias = -0.20\n",
            "Input: [1, 0] | Target: 0 | Output: 0 | Updated weights: w1 = 0.10, w2 = 0.00, bias = -0.20\n",
            "Input: [1, 1] | Target: 1 | Output: 0 | Updated weights: w1 = 0.20, w2 = 0.10, bias = -0.10\n",
            "\n",
            "Epoch 3\n",
            "Input: [0, 0] | Target: 0 | Output: 0 | Updated weights: w1 = 0.20, w2 = 0.10, bias = -0.10\n",
            "Input: [0, 1] | Target: 0 | Output: 1 | Updated weights: w1 = 0.20, w2 = 0.00, bias = -0.20\n",
            "Input: [1, 0] | Target: 0 | Output: 1 | Updated weights: w1 = 0.10, w2 = 0.00, bias = -0.30\n",
            "Input: [1, 1] | Target: 1 | Output: 0 | Updated weights: w1 = 0.20, w2 = 0.10, bias = -0.20\n",
            "\n",
            "Epoch 4\n",
            "Input: [0, 0] | Target: 0 | Output: 0 | Updated weights: w1 = 0.20, w2 = 0.10, bias = -0.20\n",
            "Input: [0, 1] | Target: 0 | Output: 0 | Updated weights: w1 = 0.20, w2 = 0.10, bias = -0.20\n",
            "Input: [1, 0] | Target: 0 | Output: 0 | Updated weights: w1 = 0.20, w2 = 0.10, bias = -0.20\n",
            "Input: [1, 1] | Target: 1 | Output: 1 | Updated weights: w1 = 0.20, w2 = 0.10, bias = -0.20\n",
            "\n",
            "Training converged.\n",
            "\n",
            "Final weights:\n",
            "w1 = 0.20, w2 = 0.10, bias = -0.20\n",
            "Final Classification Accuracy: 100.00%\n",
            "--------------------------------------------------\n",
            "\n",
            "Training Perceptron for OR Gate\n",
            "Initial weights: w1 = 0.00, w2 = 0.00, bias = 0.00\n",
            "\n",
            "Epoch 1\n",
            "Input: [0, 0] | Target: 0 | Output: 1 | Updated weights: w1 = 0.00, w2 = 0.00, bias = -0.10\n",
            "Input: [0, 1] | Target: 1 | Output: 0 | Updated weights: w1 = 0.00, w2 = 0.10, bias = 0.00\n",
            "Input: [1, 0] | Target: 1 | Output: 1 | Updated weights: w1 = 0.00, w2 = 0.10, bias = 0.00\n",
            "Input: [1, 1] | Target: 1 | Output: 1 | Updated weights: w1 = 0.00, w2 = 0.10, bias = 0.00\n",
            "\n",
            "Epoch 2\n",
            "Input: [0, 0] | Target: 0 | Output: 1 | Updated weights: w1 = 0.00, w2 = 0.10, bias = -0.10\n",
            "Input: [0, 1] | Target: 1 | Output: 1 | Updated weights: w1 = 0.00, w2 = 0.10, bias = -0.10\n",
            "Input: [1, 0] | Target: 1 | Output: 0 | Updated weights: w1 = 0.10, w2 = 0.10, bias = 0.00\n",
            "Input: [1, 1] | Target: 1 | Output: 1 | Updated weights: w1 = 0.10, w2 = 0.10, bias = 0.00\n",
            "\n",
            "Epoch 3\n",
            "Input: [0, 0] | Target: 0 | Output: 1 | Updated weights: w1 = 0.10, w2 = 0.10, bias = -0.10\n",
            "Input: [0, 1] | Target: 1 | Output: 1 | Updated weights: w1 = 0.10, w2 = 0.10, bias = -0.10\n",
            "Input: [1, 0] | Target: 1 | Output: 1 | Updated weights: w1 = 0.10, w2 = 0.10, bias = -0.10\n",
            "Input: [1, 1] | Target: 1 | Output: 1 | Updated weights: w1 = 0.10, w2 = 0.10, bias = -0.10\n",
            "\n",
            "Epoch 4\n",
            "Input: [0, 0] | Target: 0 | Output: 0 | Updated weights: w1 = 0.10, w2 = 0.10, bias = -0.10\n",
            "Input: [0, 1] | Target: 1 | Output: 1 | Updated weights: w1 = 0.10, w2 = 0.10, bias = -0.10\n",
            "Input: [1, 0] | Target: 1 | Output: 1 | Updated weights: w1 = 0.10, w2 = 0.10, bias = -0.10\n",
            "Input: [1, 1] | Target: 1 | Output: 1 | Updated weights: w1 = 0.10, w2 = 0.10, bias = -0.10\n",
            "\n",
            "Training converged.\n",
            "\n",
            "Final weights:\n",
            "w1 = 0.10, w2 = 0.10, bias = -0.10\n",
            "Final Classification Accuracy: 100.00%\n",
            "--------------------------------------------------\n"
          ]
        }
      ]
    }
  ]
}